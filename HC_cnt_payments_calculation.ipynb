{
 "cells": [
  {
   "cell_type": "code",
   "execution_count": 1,
   "metadata": {
    "_cell_guid": "b1076dfc-b9ad-4769-8c92-a6c4dae69d19",
    "_uuid": "8f2839f25d086af736a60e9eeb907d3b93b6e0e5"
   },
   "outputs": [],
   "source": [
    "import numpy as np # linear algebra\n",
    "import pandas as pd # data processing, CSV file I/O (e.g. pd.read_csv)\n",
    "\n",
    "# For statistics, preprocessing and ML\n",
    "from sklearn.model_selection import train_test_split, GridSearchCV, cross_val_score\n",
    "from sklearn.metrics import confusion_matrix, accuracy_score, classification_report\n",
    "from sklearn.metrics import roc_auc_score,roc_curve\n",
    "from lightgbm import LGBMRegressor\n",
    "from sklearn.metrics import mean_squared_error, r2_score\n",
    "\n",
    "# Disabling warnings\n",
    "import warnings\n",
    "warnings.simplefilter(\"ignore\")"
   ]
  },
  {
   "cell_type": "code",
   "execution_count": 2,
   "metadata": {},
   "outputs": [],
   "source": [
    "def read_csv(path):\n",
    "    \"\"\"The function reads a csv file, converts it to a data frame and returns a copy of the data frame.\"\"\"\n",
    "    data = pd.read_csv(path, encoding = 'unicode_escape')\n",
    "    return data.copy()\n",
    "\n",
    "previous_application = read_csv(\"previous_application.csv\")\n",
    "application_train = read_csv(\"application_train.csv\")\n",
    "application_test = read_csv(\"application_test.csv\")"
   ]
  },
  {
   "cell_type": "code",
   "execution_count": 3,
   "metadata": {},
   "outputs": [],
   "source": [
    "df_previous_application = previous_application.copy()"
   ]
  },
  {
   "cell_type": "code",
   "execution_count": 4,
   "metadata": {},
   "outputs": [],
   "source": [
    "df_application_train = application_train.copy()"
   ]
  },
  {
   "cell_type": "code",
   "execution_count": 5,
   "metadata": {},
   "outputs": [],
   "source": [
    "df_application_test = application_test.copy()"
   ]
  },
  {
   "cell_type": "code",
   "execution_count": 6,
   "metadata": {},
   "outputs": [],
   "source": [
    "df_previous_application.replace({'DAYS_FIRST_DRAWING':365243,'DAYS_FIRST_DUE':365243,'DAYS_LAST_DUE_1ST_VERSION':365243,\n",
    "                                   'DAYS_LAST_DUE':365243,'DAYS_TERMINATION':365243}, np.nan, inplace=True)\n",
    "df_previous_application.AMT_DOWN_PAYMENT.fillna(0, inplace=True)\n",
    "df_previous_application.RATE_DOWN_PAYMENT.fillna(0, inplace=True)\n",
    "df_previous_application.NAME_TYPE_SUITE.fillna('Unknown',inplace=True)"
   ]
  },
  {
   "cell_type": "code",
   "execution_count": 7,
   "metadata": {},
   "outputs": [],
   "source": [
    "df_previous_application.NAME_CONTRACT_TYPE.replace('XNA','Unknown',inplace=True)\n",
    "df_previous_application.replace({'NAME_CASH_LOAN_PURPOSE':{'XNA':'Unknown', 'XAP':'Unknown'}},inplace=True)\n",
    "df_previous_application.NAME_PAYMENT_TYPE.replace('XNA','Unknown',inplace=True)\n",
    "df_previous_application.replace({'CODE_REJECT_REASON':{'XAP':'Not refused', 'XNA':'Other'}},inplace=True)\n",
    "df_previous_application.NAME_CLIENT_TYPE.replace('XNA','Unknown',inplace=True)\n",
    "df_previous_application.NAME_GOODS_CATEGORY.replace('XNA','Unknown',inplace=True)\n",
    "df_previous_application.NAME_PORTFOLIO.replace('XNA',np.nan,inplace=True)\n",
    "df_previous_application.NAME_PRODUCT_TYPE.replace('XNA','Unknown',inplace=True)\n",
    "df_previous_application.NAME_SELLER_INDUSTRY.replace('XNA','Unknown',inplace=True)\n",
    "df_previous_application.replace({'NAME_YIELD_GROUP':{'XNA':0,'low_normal':1,'low_action':1,'middle':3,'high':4}},inplace=True)"
   ]
  },
  {
   "cell_type": "code",
   "execution_count": 8,
   "metadata": {},
   "outputs": [
    {
     "data": {
      "text/html": [
       "<div>\n",
       "<style scoped>\n",
       "    .dataframe tbody tr th:only-of-type {\n",
       "        vertical-align: middle;\n",
       "    }\n",
       "\n",
       "    .dataframe tbody tr th {\n",
       "        vertical-align: top;\n",
       "    }\n",
       "\n",
       "    .dataframe thead th {\n",
       "        text-align: right;\n",
       "    }\n",
       "</style>\n",
       "<table border=\"1\" class=\"dataframe\">\n",
       "  <thead>\n",
       "    <tr style=\"text-align: right;\">\n",
       "      <th></th>\n",
       "      <th>Total_nan</th>\n",
       "      <th>Percent_nan</th>\n",
       "    </tr>\n",
       "  </thead>\n",
       "  <tbody>\n",
       "    <tr>\n",
       "      <th>RATE_INTEREST_PRIVILEGED</th>\n",
       "      <td>1664263</td>\n",
       "      <td>99.643698</td>\n",
       "    </tr>\n",
       "    <tr>\n",
       "      <th>RATE_INTEREST_PRIMARY</th>\n",
       "      <td>1664263</td>\n",
       "      <td>99.643698</td>\n",
       "    </tr>\n",
       "    <tr>\n",
       "      <th>DAYS_FIRST_DRAWING</th>\n",
       "      <td>1607509</td>\n",
       "      <td>96.245691</td>\n",
       "    </tr>\n",
       "    <tr>\n",
       "      <th>DAYS_TERMINATION</th>\n",
       "      <td>898978</td>\n",
       "      <td>53.824121</td>\n",
       "    </tr>\n",
       "    <tr>\n",
       "      <th>DAYS_LAST_DUE</th>\n",
       "      <td>884286</td>\n",
       "      <td>52.944473</td>\n",
       "    </tr>\n",
       "    <tr>\n",
       "      <th>DAYS_LAST_DUE_1ST_VERSION</th>\n",
       "      <td>766929</td>\n",
       "      <td>45.918008</td>\n",
       "    </tr>\n",
       "    <tr>\n",
       "      <th>DAYS_FIRST_DUE</th>\n",
       "      <td>713710</td>\n",
       "      <td>42.731650</td>\n",
       "    </tr>\n",
       "    <tr>\n",
       "      <th>NFLAG_INSURED_ON_APPROVAL</th>\n",
       "      <td>673065</td>\n",
       "      <td>40.298129</td>\n",
       "    </tr>\n",
       "    <tr>\n",
       "      <th>AMT_GOODS_PRICE</th>\n",
       "      <td>385515</td>\n",
       "      <td>23.081773</td>\n",
       "    </tr>\n",
       "    <tr>\n",
       "      <th>AMT_ANNUITY</th>\n",
       "      <td>372235</td>\n",
       "      <td>22.286665</td>\n",
       "    </tr>\n",
       "    <tr>\n",
       "      <th>CNT_PAYMENT</th>\n",
       "      <td>372230</td>\n",
       "      <td>22.286366</td>\n",
       "    </tr>\n",
       "    <tr>\n",
       "      <th>NAME_PORTFOLIO</th>\n",
       "      <td>372230</td>\n",
       "      <td>22.286366</td>\n",
       "    </tr>\n",
       "    <tr>\n",
       "      <th>PRODUCT_COMBINATION</th>\n",
       "      <td>346</td>\n",
       "      <td>0.020716</td>\n",
       "    </tr>\n",
       "    <tr>\n",
       "      <th>AMT_CREDIT</th>\n",
       "      <td>1</td>\n",
       "      <td>0.000060</td>\n",
       "    </tr>\n",
       "    <tr>\n",
       "      <th>NAME_CONTRACT_TYPE</th>\n",
       "      <td>0</td>\n",
       "      <td>0.000000</td>\n",
       "    </tr>\n",
       "    <tr>\n",
       "      <th>SK_ID_CURR</th>\n",
       "      <td>0</td>\n",
       "      <td>0.000000</td>\n",
       "    </tr>\n",
       "    <tr>\n",
       "      <th>AMT_DOWN_PAYMENT</th>\n",
       "      <td>0</td>\n",
       "      <td>0.000000</td>\n",
       "    </tr>\n",
       "  </tbody>\n",
       "</table>\n",
       "</div>"
      ],
      "text/plain": [
       "                           Total_nan  Percent_nan\n",
       "RATE_INTEREST_PRIVILEGED     1664263    99.643698\n",
       "RATE_INTEREST_PRIMARY        1664263    99.643698\n",
       "DAYS_FIRST_DRAWING           1607509    96.245691\n",
       "DAYS_TERMINATION              898978    53.824121\n",
       "DAYS_LAST_DUE                 884286    52.944473\n",
       "DAYS_LAST_DUE_1ST_VERSION     766929    45.918008\n",
       "DAYS_FIRST_DUE                713710    42.731650\n",
       "NFLAG_INSURED_ON_APPROVAL     673065    40.298129\n",
       "AMT_GOODS_PRICE               385515    23.081773\n",
       "AMT_ANNUITY                   372235    22.286665\n",
       "CNT_PAYMENT                   372230    22.286366\n",
       "NAME_PORTFOLIO                372230    22.286366\n",
       "PRODUCT_COMBINATION              346     0.020716\n",
       "AMT_CREDIT                         1     0.000060\n",
       "NAME_CONTRACT_TYPE                 0     0.000000\n",
       "SK_ID_CURR                         0     0.000000\n",
       "AMT_DOWN_PAYMENT                   0     0.000000"
      ]
     },
     "execution_count": 8,
     "metadata": {},
     "output_type": "execute_result"
    }
   ],
   "source": [
    "total_nan = df_previous_application.isnull().sum().sort_values(ascending = False)\n",
    "percent_nan = (df_previous_application.isnull().sum()/df_previous_application.isnull().count()*100).sort_values(ascending = False)\n",
    "missing_previous_data = pd.concat([total_nan, percent_nan], axis=1, keys=['Total_nan', 'Percent_nan'])\n",
    "missing_previous_data.head(17)"
   ]
  },
  {
   "cell_type": "code",
   "execution_count": 9,
   "metadata": {},
   "outputs": [],
   "source": [
    "df_previous_application.drop(labels=['RATE_INTEREST_PRIVILEGED','RATE_INTEREST_PRIMARY','DAYS_FIRST_DRAWING'], \n",
    "                             axis=1, inplace=True)"
   ]
  },
  {
   "cell_type": "code",
   "execution_count": 10,
   "metadata": {},
   "outputs": [],
   "source": [
    "df_previous_application['PREVIOUS_TERM'] = df_previous_application['AMT_CREDIT'] / df_previous_application['AMT_ANNUITY']"
   ]
  },
  {
   "cell_type": "code",
   "execution_count": 11,
   "metadata": {},
   "outputs": [],
   "source": [
    "df_previous_application['INTEREST'] = df_previous_application['CNT_PAYMENT']*df_previous_application['AMT_ANNUITY'] - df_previous_application['AMT_CREDIT']"
   ]
  },
  {
   "cell_type": "code",
   "execution_count": 12,
   "metadata": {},
   "outputs": [],
   "source": [
    "df_previous_application.replace([np.inf, -np.inf], np.nan,inplace=True)"
   ]
  },
  {
   "cell_type": "markdown",
   "metadata": {},
   "source": [
    "### NaN imputation\n",
    "- We need to fill NaN values to use LGBM Regressor. \n",
    "- We can use YCImpute package to impute NaN values. EM algorithm gives result in a shorter time. KNN is time consuming and Iterforest gives error. \n",
    "- A function is formed for imputation. We need to convert the dataframe into an array and the values become float. We add lines to keep the datatypes same as before the method."
   ]
  },
  {
   "cell_type": "code",
   "execution_count": 13,
   "metadata": {},
   "outputs": [],
   "source": [
    "from ycimpute.imputer import iterforest\n",
    "from ycimpute.imputer import EM\n",
    "from ycimpute.imputer import knnimput\n",
    "\n",
    "def nan_imputer(df):\n",
    "    int_columns = df.select_dtypes(include='int64').columns\n",
    "    cat_columns = df.select_dtypes(include='uint8').columns\n",
    "    var_names = df.columns\n",
    "    np_df = np.array(df)\n",
    "    df = EM().complete(np_df)\n",
    "    df = pd.DataFrame(df, columns = var_names)\n",
    "    df[int_columns] = df[int_columns].astype('int64')\n",
    "    df[cat_columns] = df[cat_columns].astype('uint8')\n",
    "    return df\n",
    "num_columns = df_previous_application.select_dtypes(exclude='object').columns\n",
    "df_previous_application[num_columns] = nan_imputer(df_previous_application[num_columns])"
   ]
  },
  {
   "cell_type": "markdown",
   "metadata": {},
   "source": [
    "## LGBM Model\n",
    "- We use AMT_CREDIT,AMT_ANNUITY, PREVIOUS_TERM features to predict CNT_PAYMENT.\n",
    "- We build a model with LGBM in order to predict CNT_PAYMENT in application dataframes, because we do not have this feature in these dataframes. Then, we can create new features for interest rates. \n",
    "- This approach is taken from the kaggle write-up of @kingychiu. \n",
    "- https://www.kaggle.com/c/home-credit-default-risk/discussion/64598"
   ]
  },
  {
   "cell_type": "code",
   "execution_count": 14,
   "metadata": {},
   "outputs": [],
   "source": [
    "X = df_previous_application[['AMT_CREDIT','AMT_ANNUITY','PREVIOUS_TERM']]\n",
    "y = df_previous_application['CNT_PAYMENT']"
   ]
  },
  {
   "cell_type": "code",
   "execution_count": 15,
   "metadata": {},
   "outputs": [],
   "source": [
    "X_train, X_test, y_train, y_test = train_test_split(X, y, \n",
    "                                                    test_size=0.25, \n",
    "                                                    random_state=42)"
   ]
  },
  {
   "cell_type": "code",
   "execution_count": 16,
   "metadata": {},
   "outputs": [],
   "source": [
    "lgbm_model = LGBMRegressor().fit(X_train, y_train)"
   ]
  },
  {
   "cell_type": "code",
   "execution_count": 17,
   "metadata": {},
   "outputs": [],
   "source": [
    "y_pred = lgbm_model.predict(X_test, \n",
    "                            num_iteration = lgbm_model.best_iteration_)"
   ]
  },
  {
   "cell_type": "code",
   "execution_count": 18,
   "metadata": {},
   "outputs": [
    {
     "data": {
      "text/plain": [
       "2.3175438628412164"
      ]
     },
     "execution_count": 18,
     "metadata": {},
     "output_type": "execute_result"
    }
   ],
   "source": [
    "np.sqrt(mean_squared_error(y_test, y_pred))"
   ]
  },
  {
   "cell_type": "code",
   "execution_count": 19,
   "metadata": {},
   "outputs": [
    {
     "data": {
      "text/plain": [
       "array([ 6.00707997, 11.44419284, 12.08686038, ..., 12.1480679 ,\n",
       "        0.02669369,  0.02669369])"
      ]
     },
     "execution_count": 19,
     "metadata": {},
     "output_type": "execute_result"
    }
   ],
   "source": [
    "y_pred"
   ]
  },
  {
   "cell_type": "markdown",
   "metadata": {},
   "source": [
    "### Predicting CNT_PAYMENT\n",
    "- We use AMT_CREDIT, AMT_ANNUITY and AMT_CREDIT/AMT_ANNUITY in application train and test dataframes to predict CNT_PAYMENT through the model constructed with the use of previous application data set. \n",
    "- The interest calculations are taken from the kaggle write-up of @kingychiu. \n",
    "- https://www.kaggle.com/c/home-credit-default-risk/discussion/64598"
   ]
  },
  {
   "cell_type": "code",
   "execution_count": 20,
   "metadata": {},
   "outputs": [],
   "source": [
    "df_application_train['CREDIT_TERM'] = df_application_train['AMT_CREDIT'] / df_application_train['AMT_ANNUITY']\n",
    "df_application_test['CREDIT_TERM'] = df_application_test['AMT_CREDIT'] / df_application_test['AMT_ANNUITY']"
   ]
  },
  {
   "cell_type": "code",
   "execution_count": 21,
   "metadata": {},
   "outputs": [],
   "source": [
    "df_application_train.replace([np.inf, -np.inf], np.nan,inplace=True)\n",
    "df_application_test.replace([np.inf, -np.inf], np.nan,inplace=True)"
   ]
  },
  {
   "cell_type": "code",
   "execution_count": 22,
   "metadata": {},
   "outputs": [],
   "source": [
    "X_app_train = df_application_train[['AMT_CREDIT','AMT_ANNUITY','CREDIT_TERM']]\n",
    "y_pred_train = lgbm_model.predict(X_app_train, \n",
    "                            num_iteration = lgbm_model.best_iteration_)"
   ]
  },
  {
   "cell_type": "code",
   "execution_count": 23,
   "metadata": {},
   "outputs": [],
   "source": [
    "X_app_test = df_application_test[['AMT_CREDIT','AMT_ANNUITY','CREDIT_TERM']]\n",
    "y_pred_test = lgbm_model.predict(X_app_test, \n",
    "                            num_iteration = lgbm_model.best_iteration_)"
   ]
  },
  {
   "cell_type": "code",
   "execution_count": 24,
   "metadata": {},
   "outputs": [],
   "source": [
    "cnt_payment_train = pd.DataFrame(y_pred_train)\n",
    "cnt_payment_test = pd.DataFrame(y_pred_test)"
   ]
  },
  {
   "cell_type": "code",
   "execution_count": 25,
   "metadata": {},
   "outputs": [],
   "source": [
    "# cnt_payment_train.to_csv('train_cnt_payment.csv', index=False)\n",
    "# cnt_payment_test.to_csv('test_cnt_payment.csv', index=False)"
   ]
  },
  {
   "cell_type": "code",
   "execution_count": null,
   "metadata": {},
   "outputs": [],
   "source": [
    "# display(df_previous_application.head())\n",
    "# display(df_previous_application.info())\n",
    "# display(df_previous_application.isnull().sum())"
   ]
  },
  {
   "cell_type": "code",
   "execution_count": null,
   "metadata": {},
   "outputs": [],
   "source": [
    "# pd.reset_option(\"display.max_rows\")\n",
    "# pd.reset_option(\"display.max_columns\")\n",
    "# pd.get_option(\"display.max_rows\")"
   ]
  }
 ],
 "metadata": {
  "kernelspec": {
   "display_name": "Python 3",
   "language": "python",
   "name": "python3"
  },
  "language_info": {
   "codemirror_mode": {
    "name": "ipython",
    "version": 3
   },
   "file_extension": ".py",
   "mimetype": "text/x-python",
   "name": "python",
   "nbconvert_exporter": "python",
   "pygments_lexer": "ipython3",
   "version": "3.7.3"
  }
 },
 "nbformat": 4,
 "nbformat_minor": 4
}
